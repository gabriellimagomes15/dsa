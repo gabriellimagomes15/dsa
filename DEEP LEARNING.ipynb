{
 "cells": [
  {
   "cell_type": "code",
   "execution_count": 1,
   "metadata": {},
   "outputs": [
    {
     "name": "stderr",
     "output_type": "stream",
     "text": [
      "/anaconda3/lib/python3.6/site-packages/h5py/__init__.py:36: FutureWarning: Conversion of the second argument of issubdtype from `float` to `np.floating` is deprecated. In future, it will be treated as `np.float64 == np.dtype(float).type`.\n",
      "  from ._conv import register_converters as _register_converters\n"
     ]
    }
   ],
   "source": [
    "import nltk\n",
    "from nltk.stem.lancaster import LancasterStemmer\n",
    "import numpy as np\n",
    "#!pip install tensorflow\n",
    "#!pip install tflearn\n",
    "import tflearn\n",
    "#!pip3 install tensorflow==1.2.0 --ignore-installed\n",
    "import tensorflow as tf\n",
    "import random\n",
    "import json\n",
    "import string\n",
    "import unicodedata\n",
    "import sys\n",
    "import pandas as pd"
   ]
  },
  {
   "cell_type": "code",
   "execution_count": 2,
   "metadata": {},
   "outputs": [],
   "source": [
    "\n",
    "# a table structure to hold the different punctuation used\n",
    "tbl = dict.fromkeys(i for i in range(sys.maxunicode)\n",
    "                    if unicodedata.category(chr(i)).startswith('P'))\n",
    "\n",
    "# method to remove punctuations from sentences.\n",
    "def remove_punctuation(text):\n",
    "    return text.translate(tbl)\n",
    "\n",
    "# initialize the stemmer\n",
    "stemmer = LancasterStemmer()\n",
    "# variable to hold the Json data read from the file\n",
    "#data = None\n"
   ]
  },
  {
   "cell_type": "code",
   "execution_count": null,
   "metadata": {},
   "outputs": [],
   "source": [
    "\n",
    "# read the json file and load the training data\n",
    "with open('data.json') as json_data:\n",
    "    data = json.load(json_data)\n",
    "    print(data)\n",
    "\n"
   ]
  },
  {
   "cell_type": "code",
   "execution_count": 13,
   "metadata": {},
   "outputs": [],
   "source": [
    "dados = pd.read_csv('~/Documents/dsa/data/reviewFinal.csv',encoding='latin-1')\n",
    "corpus = pd.DataFrame()\n",
    "listTitle = []\n",
    "listRecom = []\n",
    "\n",
    "for i, r in dados.iterrows():\n",
    "    if r['recommend'] != 'NI' and r['title'] != \"\" and r['title'] is not np.nan and r['site'] == \"glassdoor\":\n",
    "        listTitle.append(r['title'])\n",
    "        listRecom.append(r['recommend'])\n"
   ]
  },
  {
   "cell_type": "code",
   "execution_count": 14,
   "metadata": {},
   "outputs": [
    {
     "data": {
      "text/plain": [
       "5000"
      ]
     },
     "execution_count": 14,
     "metadata": {},
     "output_type": "execute_result"
    }
   ],
   "source": [
    "corpus['title'] = listTitle\n",
    "corpus['recommend'] = listRecom\n",
    "data = corpus[:5000]\n",
    "len(data)"
   ]
  },
  {
   "cell_type": "code",
   "execution_count": 5,
   "metadata": {},
   "outputs": [],
   "source": [
    "# get a list of all categories to train for\n",
    "categories = list(set(listRecom))\n",
    "words = []\n",
    "# a list of tuples with words in the sentence and category name\n",
    "docs = []\n",
    "\n",
    "#for each_category in data.keys():\n",
    "for i, row in data.iterrows():\n",
    "    # remove any punctuation from the sentence\n",
    "    each_sentence = remove_punctuation(row['title'])\n",
    "\n",
    "    #print(each_sentence)\n",
    "\n",
    "    # extract words from each sentence and append to the word list\n",
    "    w = nltk.word_tokenize(each_sentence)\n",
    "    #print(\"tokenized words: \", w)\n",
    "\n",
    "    words.extend(w)\n",
    "    docs.append((w, row['recommend']))\n"
   ]
  },
  {
   "cell_type": "code",
   "execution_count": 6,
   "metadata": {},
   "outputs": [],
   "source": [
    "\n",
    "# stem and lower each word and remove duplicates\n",
    "words = [stemmer.stem(w.lower()) for w in words]\n",
    "words = sorted(list(set(words)))\n",
    "\n",
    "#print(words)\n",
    "#print(docs)"
   ]
  },
  {
   "cell_type": "code",
   "execution_count": 7,
   "metadata": {},
   "outputs": [],
   "source": [
    "# create our training data\n",
    "training = []\n",
    "output = []\n",
    "# create an empty array for our output\n",
    "output_empty = [0] * len(categories)\n"
   ]
  },
  {
   "cell_type": "code",
   "execution_count": 8,
   "metadata": {},
   "outputs": [],
   "source": [
    "for doc in docs:\n",
    "    # initialize our bag of words(bow) for each document in the list\n",
    "    bow = []\n",
    "    # list of tokenized words for the pattern\n",
    "    token_words = doc[0]\n",
    "    # stem each word\n",
    "    token_words = [stemmer.stem(word.lower()) for word in token_words]\n",
    "    # create our bag of words array\n",
    "    for w in words:\n",
    "        bow.append(1) if w in token_words else bow.append(0)\n",
    "\n",
    "    output_row = list(output_empty)\n",
    "    output_row[categories.index(doc[1])] = 1\n",
    "\n",
    "    # our training set will contain a the bag of words model and the output row that tells\n",
    "    # which catefory that bow belongs to.\n",
    "    training.append([bow, output_row])\n"
   ]
  },
  {
   "cell_type": "code",
   "execution_count": 9,
   "metadata": {},
   "outputs": [],
   "source": [
    "# shuffle our features and turn into np.array as tensorflow  takes in numpy array\n",
    "random.shuffle(training)\n",
    "training = np.array(training)\n",
    "\n",
    "# trainX contains the Bag of words and train_y contains the label/ category\n",
    "train_x = list(training[:, 0])\n",
    "train_y = list(training[:, 1])\n"
   ]
  },
  {
   "cell_type": "code",
   "execution_count": 12,
   "metadata": {},
   "outputs": [
    {
     "name": "stdout",
     "output_type": "stream",
     "text": [
      "Training Step: 624999  | total loss: \u001b[1m\u001b[32m0.23649\u001b[0m\u001b[0m | time: 2.566s\n",
      "| Adam | epoch: 1000 | loss: 0.23649 - acc: 0.8807 -- iter: 4992/5000\n",
      "Training Step: 625000  | total loss: \u001b[1m\u001b[32m0.21429\u001b[0m\u001b[0m | time: 2.570s\n",
      "| Adam | epoch: 1000 | loss: 0.21429 - acc: 0.8927 -- iter: 5000/5000\n",
      "--\n"
     ]
    }
   ],
   "source": [
    "\n",
    "# reset underlying graph data\n",
    "tf.reset_default_graph()\n",
    "# Build neural network\n",
    "net = tflearn.input_data(shape=[None, len(train_x[0])])\n",
    "net = tflearn.fully_connected(net, 8)\n",
    "net = tflearn.fully_connected(net, 8)\n",
    "net = tflearn.fully_connected(net, len(train_y[0]), activation='softmax')\n",
    "net = tflearn.regression(net)\n",
    "\n",
    "# Define model and setup tensorboard\n",
    "model = tflearn.DNN(net, tensorboard_dir='tflearn_logs')\n",
    "# Start training (apply gradient descent algorithm)\n",
    "model.fit(train_x, train_y, n_epoch=1000, batch_size=8, show_metric=True)\n",
    "#model.save('model.tflearn')\n"
   ]
  },
  {
   "cell_type": "code",
   "execution_count": 15,
   "metadata": {},
   "outputs": [],
   "source": [
    "def get_tf_record(sentenceL):\n",
    "    #print(sentenceL)\n",
    "    global words\n",
    "    retorno = []\n",
    "    if type(sentenceL) == list :\n",
    "        for sentence in sentenceL:\n",
    "            #print(sentence)\n",
    "            # tokenize the pattern\n",
    "            sentence_words = nltk.word_tokenize(sentence)\n",
    "            # stem each word\n",
    "            sentence_words = [stemmer.stem(word.lower()) for word in sentence_words]\n",
    "            # bag of words\n",
    "            bow = [0]*len(words)\n",
    "            for s in sentence_words:\n",
    "                for i, w in enumerate(words):\n",
    "                    if w == s:\n",
    "                        bow[i] = 1\n",
    "            retorno.append(bow)\n",
    "\n",
    "        return(np.array(retorno))\n",
    "    else:\n",
    "        sentence = sentenceL\n",
    "        # tokenize the pattern\n",
    "        sentence_words = nltk.word_tokenize(sentence)\n",
    "        # stem each word\n",
    "        sentence_words = [stemmer.stem(word.lower()) for word in sentence_words]\n",
    "        # bag of words\n",
    "        bow = [0]*len(words)\n",
    "        for s in sentence_words:\n",
    "            for i, w in enumerate(words):\n",
    "                if w == s:\n",
    "                    bow[i] = 1\n",
    "        retorno.append(bow)\n",
    "\n",
    "        return(np.array(bow))\n",
    "        "
   ]
  },
  {
   "cell_type": "code",
   "execution_count": 57,
   "metadata": {},
   "outputs": [
    {
     "data": {
      "text/plain": [
       "1"
      ]
     },
     "execution_count": 57,
     "metadata": {},
     "output_type": "execute_result"
    }
   ],
   "source": [
    "#output_row[categories.index(doc[1])] = 1\n",
    "categories.index(x['recommend'])"
   ]
  },
  {
   "cell_type": "code",
   "execution_count": 60,
   "metadata": {},
   "outputs": [
    {
     "data": {
      "text/plain": [
       "0.66"
      ]
     },
     "execution_count": 60,
     "metadata": {},
     "output_type": "execute_result"
    }
   ],
   "source": [
    "data_test = corpus[10000:20000]\n",
    "title_test = []\n",
    "y_test = []\n",
    "for i,x in data_test.iterrows():\n",
    "    title_test.append(x['title'])\n",
    "    y_test.append(categories.index(x['recommend']))\n",
    "    \n",
    "title_test = get_tf_record(title_test)\n",
    "pred = model.predict(title_test)\n",
    "pred_y = list(np.argmax(pred,axis=1))\n",
    "#pred.max(axis=0)\n",
    "pred_y\n",
    "from sklearn.metrics import accuracy_score\n",
    "accuracy_score(y_test,pred_y)"
   ]
  },
  {
   "cell_type": "code",
   "execution_count": null,
   "metadata": {},
   "outputs": [],
   "source": [
    "# let's test the mdodel for a few sentences:\n",
    "# the first two sentences are used for training, and the last two sentences are not present in the training data.\n",
    "sent_1 = \"what time is it?\"\n",
    "sent_2 = \"I gotta go now\"\n",
    "sent_3 = \"do you know the time now?\"\n",
    "sent_4 = \"you must be a couple of years older then her!\"\n",
    "\n",
    "sents = [\"what time is it?\",\"I gotta go now\",\"do you know the time now?\",\"you must be a couple of years older then her!\"]"
   ]
  },
  {
   "cell_type": "code",
   "execution_count": null,
   "metadata": {},
   "outputs": [],
   "source": [
    "print(np.argmax(model.predict([get_tf_record(sent_1)])))\n",
    "categories"
   ]
  },
  {
   "cell_type": "code",
   "execution_count": null,
   "metadata": {},
   "outputs": [],
   "source": [
    "\n",
    "# we can start to predict the results for each of the 4 sentences\n",
    "print(categories[np.argmax(model.predict([get_tf_record(sent_1)]))])\n",
    "print(categories[np.argmax(model.predict([get_tf_record(sent_2)]))])\n",
    "print(categories[np.argmax(model.predict([get_tf_record(sent_3)]))])\n",
    "print(categories[np.argmax(model.predict([get_tf_record(sent_4)]))])"
   ]
  },
  {
   "cell_type": "code",
   "execution_count": null,
   "metadata": {},
   "outputs": [],
   "source": [
    "x = get_tf_record(sents)\n",
    "labels = [0,3,3,4]\n"
   ]
  },
  {
   "cell_type": "code",
   "execution_count": null,
   "metadata": {},
   "outputs": [],
   "source": [
    "pred = model.predict(x)"
   ]
  },
  {
   "cell_type": "code",
   "execution_count": null,
   "metadata": {},
   "outputs": [],
   "source": [
    "print(pred)\n",
    "#print(categories[np.argmax(model.predict([get_tf_record(sent_1)]))])\n",
    "#print(model.predict([get_tf_record(sent_1)]))\n",
    "#print(np.argmax(get_tf_record([sent_1])))\n",
    "#print(get_tf_record(sent_1))"
   ]
  },
  {
   "cell_type": "code",
   "execution_count": null,
   "metadata": {},
   "outputs": [],
   "source": [
    "pred_y = list(np.argmax(pred,axis=1))\n",
    "#pred.max(axis=0)\n",
    "pred_y"
   ]
  },
  {
   "cell_type": "code",
   "execution_count": null,
   "metadata": {},
   "outputs": [],
   "source": [
    "from sklearn.metrics import accuracy_score\n",
    "accuracy_score(labels,pred_y)\n",
    "#print(labels, pred_y)"
   ]
  }
 ],
 "metadata": {
  "kernelspec": {
   "display_name": "Python 3",
   "language": "python",
   "name": "python3"
  },
  "language_info": {
   "codemirror_mode": {
    "name": "ipython",
    "version": 3
   },
   "file_extension": ".py",
   "mimetype": "text/x-python",
   "name": "python",
   "nbconvert_exporter": "python",
   "pygments_lexer": "ipython3",
   "version": "3.6.4"
  }
 },
 "nbformat": 4,
 "nbformat_minor": 2
}
