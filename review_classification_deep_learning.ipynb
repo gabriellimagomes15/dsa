{
 "cells": [
  {
   "cell_type": "code",
   "execution_count": 8,
   "metadata": {},
   "outputs": [],
   "source": [
    "## IMPORTANDO LIBS\n",
    "import nltk\n",
    "from nltk.stem.lancaster import LancasterStemmer\n",
    "import numpy as np\n",
    "#!pip install tensorflow\n",
    "#!pip install tflearn\n",
    "import tflearn\n",
    "import tensorflow as tf\n",
    "import random\n",
    "import json\n",
    "import string\n",
    "import unicodedata\n",
    "import sys\n",
    "import pandas as pd\n",
    "from sklearn.metrics import accuracy_score\n",
    "import random\n",
    "from random import shuffle\n"
   ]
  },
  {
   "cell_type": "code",
   "execution_count": 3,
   "metadata": {},
   "outputs": [],
   "source": [
    "### CRIANDO FUNÇÃO PARA REMOVER PONTUAÇÕES\n",
    "\n",
    "# criando tabela com códigos das pontuações\n",
    "tbl = dict.fromkeys(i for i in range(sys.maxunicode)\n",
    "                    if unicodedata.category(chr(i)).startswith('P'))\n",
    "\n",
    "# função para remover pontuações\n",
    "def remove_punctuation(text):\n",
    "    return text.translate(tbl)\n",
    "\n",
    "# inicializando objeto stemmer\n",
    "stemmer = LancasterStemmer()"
   ]
  },
  {
   "cell_type": "code",
   "execution_count": 4,
   "metadata": {},
   "outputs": [],
   "source": [
    "## CARREGANDO OS DADOS\n",
    "dados = pd.read_csv('~/Documents/dsa/data/reviewFinal.csv',encoding='latin-1')\n",
    "corpus = pd.DataFrame()\n",
    "listTitle = []\n",
    "listRecom = []\n",
    "\n",
    "## FILTRANDO OS REGISTROS\n",
    "for i, r in dados.iterrows():\n",
    "    if r['recommend'] != 'NI' and r['title'] != \"\" and r['title'] is not np.nan and r['site'] == \"glassdoor\":\n",
    "        listTitle.append(r['title'])\n",
    "        listRecom.append(r['recommend'])\n"
   ]
  },
  {
   "cell_type": "code",
   "execution_count": 9,
   "metadata": {},
   "outputs": [],
   "source": [
    "corpus['title'] = listTitle\n",
    "corpus['recommend'] = listRecom\n",
    "\n",
    "## CRIANDO LINHAS PARA SELECIONAR BASE DE TESTE E BASE DE TREINO\n",
    "x = [ i for i in range(len(corpus))]\n",
    "shuffle(x)\n",
    "\n",
    "prc_train  = 0.75 ## variavel para indicar a porcentagem para a base de treino\n",
    "rows_train = x[0:round( len(corpus) * prc_train)]\n",
    "rows_test  = x[round( len(corpus) * prc_train):(len(corpus))]\n",
    "\n",
    "data = corpus.iloc[rows_train, ]"
   ]
  },
  {
   "cell_type": "code",
   "execution_count": 10,
   "metadata": {},
   "outputs": [],
   "source": [
    "# LISTANDO TODOS OS VALORES PARA ATRIBUTO 'RECOMMEND'\n",
    "categories = list(set(listRecom))\n",
    "words = []\n",
    "docs  = []\n",
    "\n",
    "\n",
    "#loop para percorrer o DF, tratar os dados e salvar no objetos WORDS e DOCS\n",
    "for i, row in data.iterrows():\n",
    "    \n",
    "    each_sentence = remove_punctuation(row['title'])\n",
    "\n",
    "    w = nltk.word_tokenize(each_sentence)\n",
    "    words.extend(w)\n",
    "    \n",
    "    docs.append((w, row['recommend']))\n"
   ]
  },
  {
   "cell_type": "code",
   "execution_count": 13,
   "metadata": {},
   "outputs": [],
   "source": [
    "# CONVERTENDO TERMOS PARA STEMMER E MINUSCULO E REMOVENDO DUPLICIDADE\n",
    "# stem and lower each word and remove duplicates\n",
    "words = [stemmer.stem(w.lower()) for w in words]\n",
    "words = sorted(list(set(words)))"
   ]
  },
  {
   "cell_type": "code",
   "execution_count": 14,
   "metadata": {},
   "outputs": [],
   "source": [
    "#CRIANDO BASE DE TREINO \n",
    "training = []\n",
    "output   = []\n",
    "\n",
    "# create an empty array for our output\n",
    "output_empty = [0] * len(categories)\n"
   ]
  },
  {
   "cell_type": "code",
   "execution_count": 15,
   "metadata": {},
   "outputs": [],
   "source": [
    "for doc in docs:\n",
    "    # inicializando bag of words(bow) para cada documento\n",
    "    bow = []\n",
    "    # list de tokenized words\n",
    "    token_words = doc[0]\n",
    "    # stem de cada palavra\n",
    "    token_words = [stemmer.stem(word.lower()) for word in token_words]\n",
    "    # adicionando termo na bag of word(bow)\n",
    "    for w in words:\n",
    "        bow.append(1) if w in token_words else bow.append(0)\n",
    "\n",
    "    output_row = list(output_empty)\n",
    "    output_row[categories.index(doc[1])] = 1\n",
    "\n",
    "    #adicionando a lista de treinando os termos com sua respectiva classe\n",
    "    training.append([bow, output_row])\n"
   ]
  },
  {
   "cell_type": "code",
   "execution_count": 16,
   "metadata": {},
   "outputs": [],
   "source": [
    "# misturando os valores na base de treino e convertendo em um array\n",
    "random.shuffle(training)\n",
    "training = np.array(training)\n",
    "\n",
    "#criando lista de treino para valores X(termos) e Y(classe)\n",
    "train_x = list(training[:, 0])\n",
    "train_y = list(training[:, 1])"
   ]
  },
  {
   "cell_type": "code",
   "execution_count": 17,
   "metadata": {},
   "outputs": [
    {
     "name": "stdout",
     "output_type": "stream",
     "text": [
      "Training Step: 40289  | total loss: \u001b[1m\u001b[32m0.44550\u001b[0m\u001b[0m | time: 38.944s\n",
      "| Adam | epoch: 005 | loss: 0.44550 - acc: 0.7846 -- iter: 64456/64460\n",
      "Training Step: 40290  | total loss: \u001b[1m\u001b[32m0.44429\u001b[0m\u001b[0m | time: 38.948s\n",
      "| Adam | epoch: 005 | loss: 0.44429 - acc: 0.7811 -- iter: 64460/64460\n",
      "--\n"
     ]
    }
   ],
   "source": [
    "# reset underlying graph data\n",
    "tf.reset_default_graph()\n",
    "\n",
    "# Build neural network\n",
    "net = tflearn.input_data(shape=[None, len(train_x[0])])\n",
    "net = tflearn.fully_connected(net, 8)\n",
    "net = tflearn.fully_connected(net, 8)\n",
    "net = tflearn.fully_connected(net, len(train_y[0]), activation='softmax')\n",
    "net = tflearn.regression(net)\n",
    "\n",
    "# definindo o modelo e as configuraçoes\n",
    "model = tflearn.DNN(net, tensorboard_dir='tflearn_logs')\n",
    "\n",
    "# treinando o modelo (aplicando gradient descent algorithm)\n",
    "model.fit(train_x, train_y, n_epoch=5, batch_size=8, show_metric=True)\n",
    "#model.save('model.tflearn')"
   ]
  },
  {
   "cell_type": "code",
   "execution_count": 18,
   "metadata": {},
   "outputs": [],
   "source": [
    "#FUNÇÃO PARA FAZER TRATAMENTO DOS TERMOS QUE SERÃO CLASSIFICADOS\n",
    "def get_tf_record(sentenceL):    \n",
    "    global words\n",
    "    retorno = []\n",
    "    if type(sentenceL) == list :\n",
    "        for sentence in sentenceL:\n",
    "            sentence_words = nltk.word_tokenize(sentence)\n",
    "            sentence_words = [stemmer.stem(word.lower()) for word in sentence_words]\n",
    "            bow = [0]*len(words)\n",
    "            for s in sentence_words:\n",
    "                for i, w in enumerate(words):\n",
    "                    if w == s:\n",
    "                        bow[i] = 1\n",
    "            retorno.append(bow)\n",
    "        return(np.array(retorno))\n",
    "    else:\n",
    "        sentence = sentenceL        \n",
    "        sentence_words = nltk.word_tokenize(sentence)        \n",
    "        sentence_words = [stemmer.stem(word.lower()) for word in sentence_words]\n",
    "        \n",
    "        bow = [0]*len(words)\n",
    "        for s in sentence_words:\n",
    "            for i, w in enumerate(words):\n",
    "                if w == s:\n",
    "                    bow[i] = 1\n",
    "        retorno.append(bow)\n",
    "\n",
    "        return(np.array(bow))\n",
    "        "
   ]
  },
  {
   "cell_type": "code",
   "execution_count": 20,
   "metadata": {},
   "outputs": [
    {
     "data": {
      "text/plain": [
       "0.7661267802289863"
      ]
     },
     "execution_count": 20,
     "metadata": {},
     "output_type": "execute_result"
    }
   ],
   "source": [
    "#CRIANDO BASE DE TESTE\n",
    "data_test  = corpus.iloc[rows_test,]\n",
    "test_x = []\n",
    "test_y = []\n",
    "\n",
    "for i,x in data_test.iterrows():\n",
    "    test_x.append(x['title'])\n",
    "    test_y.append(categories.index(x['recommend']))\n",
    "    \n",
    "test_x_clean = get_tf_record(test_x)\n",
    "\n",
    "pred   = model.predict(test_x_clean)\n",
    "pred_y = list(np.argmax(pred,axis=1))\n",
    "\n",
    "## VERFICIANDO ACURACIA DO MODELO\n",
    "accuracy_score(test_y,pred_y)"
   ]
  }
 ],
 "metadata": {
  "kernelspec": {
   "display_name": "Python 3",
   "language": "python",
   "name": "python3"
  },
  "language_info": {
   "codemirror_mode": {
    "name": "ipython",
    "version": 3
   },
   "file_extension": ".py",
   "mimetype": "text/x-python",
   "name": "python",
   "nbconvert_exporter": "python",
   "pygments_lexer": "ipython3",
   "version": "3.6.4"
  }
 },
 "nbformat": 4,
 "nbformat_minor": 2
}
